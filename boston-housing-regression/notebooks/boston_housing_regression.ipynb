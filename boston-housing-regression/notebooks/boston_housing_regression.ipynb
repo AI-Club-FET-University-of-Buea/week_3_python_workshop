{
    "cells": [
        {
            "cell_type": "markdown",
            "metadata": {
                "id": "cd267f4c",
                "language": "markdown"
            },
            "source": [
                "# Boston Housing Regression\n",
                "\n",
                "This notebook contains hands-on exercises for participants to work with the Boston Housing dataset. We will cover data preprocessing, building a Scikit-learn Linear Regression model, and constructing a TensorFlow neural network for regression."
            ]
        },
        {
            "cell_type": "markdown",
            "metadata": {
                "id": "64d443f8",
                "language": "markdown"
            },
            "source": [
                "## 1. Setting Up the Environment\n",
                "\n",
                "First, we'll import all the necessary libraries for our analysis:\n",
                "- **pandas & numpy**: For data manipulation and numerical operations\n",
                "- **scikit-learn**: For machine learning algorithms and preprocessing tools\n",
                "- **TensorFlow**: For building neural networks\n",
                "- **matplotlib & seaborn**: For data visualization"
            ]
        },
        {
            "cell_type": "code",
            "execution_count": 2,
            "metadata": {
                "id": "7f282bd8",
                "language": "python"
            },
            "outputs": [],
            "source": [
                "import pandas as pd\n",
                "import numpy as np\n",
                "from sklearn.datasets import fetch_openml\n",
                "from sklearn.model_selection import train_test_split\n",
                "from sklearn.preprocessing import StandardScaler\n",
                "import tensorflow as tf\n",
                "import matplotlib.pyplot as plt\n",
                "import seaborn as sns"
            ]
        },
        {
            "cell_type": "markdown",
            "metadata": {
                "id": "9f5377c7",
                "language": "markdown"
            },
            "source": [
                "## 2. Data Preprocessing\n",
                "\n",
                "In this section, we will load the Boston Housing dataset, check for missing values, and scale the features."
            ]
        },
        {
            "cell_type": "code",
            "execution_count": 3,
            "metadata": {
                "id": "536b7b57",
                "language": "python"
            },
            "outputs": [
                {
                    "name": "stdout",
                    "output_type": "stream",
                    "text": [
                        "Missing values in each column: CRIM       0\n",
                        "ZN         0\n",
                        "INDUS      0\n",
                        "CHAS       0\n",
                        "NOX        0\n",
                        "RM         0\n",
                        "AGE        0\n",
                        "DIS        0\n",
                        "RAD        0\n",
                        "TAX        0\n",
                        "PTRATIO    0\n",
                        "B          0\n",
                        "LSTAT      0\n",
                        "PRICE      0\n",
                        "dtype: int64\n"
                    ]
                }
            ],
            "source": [
                "# Load the Boston Housing dataset\n",
                "boston = fetch_openml(name='boston', version=1, as_frame=False)\n",
                "df = pd.DataFrame(data=boston.data, columns=boston.feature_names)\n",
                "df['PRICE'] = boston.target\n",
                "\n",
                "# Check for missing values\n",
                "print('Missing values in each column:', df.isnull().sum())\n",
                "\n",
                "# Scale the features\n",
                "X = df.drop('PRICE', axis=1)\n",
                "y = df['PRICE']\n",
                "scaler = StandardScaler()\n",
                "X_scaled = scaler.fit_transform(X)\n",
                "\n",
                "# Split the data into training and testing sets\n",
                "X_train, X_test, y_train, y_test = train_test_split(X_scaled, y, test_size=0.2, random_state=42)"
            ]
        },
        {
            "cell_type": "markdown",
            "metadata": {
                "id": "b21647b4",
                "language": "markdown"
            },
            "source": [
                "## 3. Building a Scikit-learn Linear Regression Model\n",
                "\n",
                "In this section, we will create a Linear Regression model using Scikit-learn and evaluate its performance."
            ]
        },
        {
            "cell_type": "code",
            "execution_count": 4,
            "metadata": {
                "id": "7bcf8ee3",
                "language": "python"
            },
            "outputs": [
                {
                    "name": "stdout",
                    "output_type": "stream",
                    "text": [
                        "Scikit-learn Linear Regression MSE: 24.29111947497353\n",
                        "Scikit-learn Linear Regression R^2: 0.6687594935356318\n"
                    ]
                }
            ],
            "source": [
                "from sklearn.linear_model import LinearRegression\n",
                "from sklearn.metrics import mean_squared_error, r2_score\n",
                "\n",
                "# Create and train the model\n",
                "model_sk = LinearRegression()\n",
                "model_sk.fit(X_train, y_train)\n",
                "\n",
                "# Make predictions\n",
                "y_pred_sk = model_sk.predict(X_test)\n",
                "\n",
                "# Evaluate the model\n",
                "mse_sk = mean_squared_error(y_test, y_pred_sk)\n",
                "r2_sk = r2_score(y_test, y_pred_sk)\n",
                "print('Scikit-learn Linear Regression MSE:', mse_sk)\n",
                "print('Scikit-learn Linear Regression R^2:', r2_sk)"
            ]
        },
        {
            "cell_type": "markdown",
            "metadata": {
                "id": "4f9e9f6f",
                "language": "markdown"
            },
            "source": [
                "## 4. Constructing a TensorFlow Neural Network for Regression\n",
                "\n",
                "In this section, we will build a simple neural network using TensorFlow for regression tasks."
            ]
        },
        {
            "cell_type": "code",
            "execution_count": 5,
            "metadata": {
                "id": "875be4f7",
                "language": "python"
            },
            "outputs": [
                {
                    "name": "stderr",
                    "output_type": "stream",
                    "text": [
                        "e:\\Files\\powerub-master\\AI Club\\.venv\\Lib\\site-packages\\keras\\src\\layers\\core\\dense.py:87: UserWarning: Do not pass an `input_shape`/`input_dim` argument to a layer. When using Sequential models, prefer using an `Input(shape)` object as the first layer in the model instead.\n",
                        "  super().__init__(activity_regularizer=activity_regularizer, **kwargs)\n"
                    ]
                },
                {
                    "name": "stdout",
                    "output_type": "stream",
                    "text": [
                        "Epoch 1/100\n",
                        "\u001b[1m26/26\u001b[0m \u001b[32m━━━━━━━━━━━━━━━━━━━━\u001b[0m\u001b[37m\u001b[0m \u001b[1m2s\u001b[0m 5ms/step - loss: 590.1748 - mae: 22.5749\n",
                        "Epoch 2/100\n",
                        "\u001b[1m26/26\u001b[0m \u001b[32m━━━━━━━━━━━━━━━━━━━━\u001b[0m\u001b[37m\u001b[0m \u001b[1m0s\u001b[0m 6ms/step - loss: 517.6006 - mae: 21.0358\n",
                        "Epoch 3/100\n",
                        "\u001b[1m26/26\u001b[0m \u001b[32m━━━━━━━━━━━━━━━━━━━━\u001b[0m\u001b[37m\u001b[0m \u001b[1m0s\u001b[0m 5ms/step - loss: 412.3836 - mae: 18.3887\n",
                        "Epoch 4/100\n",
                        "\u001b[1m26/26\u001b[0m \u001b[32m━━━━━━━━━━━━━━━━━━━━\u001b[0m\u001b[37m\u001b[0m \u001b[1m0s\u001b[0m 7ms/step - loss: 237.8670 - mae: 13.2342\n",
                        "Epoch 5/100\n",
                        "\u001b[1m26/26\u001b[0m \u001b[32m━━━━━━━━━━━━━━━━━━━━\u001b[0m\u001b[37m\u001b[0m \u001b[1m0s\u001b[0m 7ms/step - loss: 93.2354 - mae: 7.8462\n",
                        "Epoch 6/100\n",
                        "\u001b[1m26/26\u001b[0m \u001b[32m━━━━━━━━━━━━━━━━━━━━\u001b[0m\u001b[37m\u001b[0m \u001b[1m0s\u001b[0m 8ms/step - loss: 73.7786 - mae: 6.2799 \n",
                        "Epoch 7/100\n",
                        "\u001b[1m26/26\u001b[0m \u001b[32m━━━━━━━━━━━━━━━━━━━━\u001b[0m\u001b[37m\u001b[0m \u001b[1m1s\u001b[0m 5ms/step - loss: 36.6407 - mae: 4.4063 \n",
                        "Epoch 8/100\n",
                        "\u001b[1m26/26\u001b[0m \u001b[32m━━━━━━━━━━━━━━━━━━━━\u001b[0m\u001b[37m\u001b[0m \u001b[1m0s\u001b[0m 6ms/step - loss: 26.5717 - mae: 3.8014\n",
                        "Epoch 9/100\n",
                        "\u001b[1m26/26\u001b[0m \u001b[32m━━━━━━━━━━━━━━━━━━━━\u001b[0m\u001b[37m\u001b[0m \u001b[1m0s\u001b[0m 6ms/step - loss: 25.6028 - mae: 3.7653\n",
                        "Epoch 10/100\n",
                        "\u001b[1m26/26\u001b[0m \u001b[32m━━━━━━━━━━━━━━━━━━━━\u001b[0m\u001b[37m\u001b[0m \u001b[1m0s\u001b[0m 11ms/step - loss: 17.8139 - mae: 3.2327\n",
                        "Epoch 11/100\n",
                        "\u001b[1m26/26\u001b[0m \u001b[32m━━━━━━━━━━━━━━━━━━━━\u001b[0m\u001b[37m\u001b[0m \u001b[1m0s\u001b[0m 4ms/step - loss: 21.5784 - mae: 3.4822\n",
                        "Epoch 12/100\n",
                        "\u001b[1m26/26\u001b[0m \u001b[32m━━━━━━━━━━━━━━━━━━━━\u001b[0m\u001b[37m\u001b[0m \u001b[1m0s\u001b[0m 5ms/step - loss: 21.2583 - mae: 3.4461\n",
                        "Epoch 13/100\n",
                        "\u001b[1m26/26\u001b[0m \u001b[32m━━━━━━━━━━━━━━━━━━━━\u001b[0m\u001b[37m\u001b[0m \u001b[1m0s\u001b[0m 4ms/step - loss: 17.0280 - mae: 3.0837\n",
                        "Epoch 14/100\n",
                        "\u001b[1m26/26\u001b[0m \u001b[32m━━━━━━━━━━━━━━━━━━━━\u001b[0m\u001b[37m\u001b[0m \u001b[1m0s\u001b[0m 5ms/step - loss: 16.1591 - mae: 3.1250\n",
                        "Epoch 15/100\n",
                        "\u001b[1m26/26\u001b[0m \u001b[32m━━━━━━━━━━━━━━━━━━━━\u001b[0m\u001b[37m\u001b[0m \u001b[1m0s\u001b[0m 5ms/step - loss: 17.2123 - mae: 3.0410\n",
                        "Epoch 16/100\n",
                        "\u001b[1m26/26\u001b[0m \u001b[32m━━━━━━━━━━━━━━━━━━━━\u001b[0m\u001b[37m\u001b[0m \u001b[1m0s\u001b[0m 5ms/step - loss: 17.2267 - mae: 3.1797\n",
                        "Epoch 17/100\n",
                        "\u001b[1m26/26\u001b[0m \u001b[32m━━━━━━━━━━━━━━━━━━━━\u001b[0m\u001b[37m\u001b[0m \u001b[1m0s\u001b[0m 5ms/step - loss: 20.2592 - mae: 3.1814\n",
                        "Epoch 18/100\n",
                        "\u001b[1m26/26\u001b[0m \u001b[32m━━━━━━━━━━━━━━━━━━━━\u001b[0m\u001b[37m\u001b[0m \u001b[1m0s\u001b[0m 6ms/step - loss: 16.9039 - mae: 2.9710\n",
                        "Epoch 19/100\n",
                        "\u001b[1m26/26\u001b[0m \u001b[32m━━━━━━━━━━━━━━━━━━━━\u001b[0m\u001b[37m\u001b[0m \u001b[1m0s\u001b[0m 6ms/step - loss: 17.5270 - mae: 2.9470\n",
                        "Epoch 20/100\n",
                        "\u001b[1m26/26\u001b[0m \u001b[32m━━━━━━━━━━━━━━━━━━━━\u001b[0m\u001b[37m\u001b[0m \u001b[1m0s\u001b[0m 5ms/step - loss: 12.6731 - mae: 2.6153\n",
                        "Epoch 21/100\n",
                        "\u001b[1m26/26\u001b[0m \u001b[32m━━━━━━━━━━━━━━━━━━━━\u001b[0m\u001b[37m\u001b[0m \u001b[1m0s\u001b[0m 5ms/step - loss: 12.4033 - mae: 2.6066\n",
                        "Epoch 22/100\n",
                        "\u001b[1m26/26\u001b[0m \u001b[32m━━━━━━━━━━━━━━━━━━━━\u001b[0m\u001b[37m\u001b[0m \u001b[1m0s\u001b[0m 5ms/step - loss: 16.1361 - mae: 2.8930\n",
                        "Epoch 23/100\n",
                        "\u001b[1m26/26\u001b[0m \u001b[32m━━━━━━━━━━━━━━━━━━━━\u001b[0m\u001b[37m\u001b[0m \u001b[1m0s\u001b[0m 5ms/step - loss: 14.2475 - mae: 2.7148\n",
                        "Epoch 24/100\n",
                        "\u001b[1m26/26\u001b[0m \u001b[32m━━━━━━━━━━━━━━━━━━━━\u001b[0m\u001b[37m\u001b[0m \u001b[1m0s\u001b[0m 5ms/step - loss: 14.0294 - mae: 2.6182\n",
                        "Epoch 25/100\n",
                        "\u001b[1m26/26\u001b[0m \u001b[32m━━━━━━━━━━━━━━━━━━━━\u001b[0m\u001b[37m\u001b[0m \u001b[1m0s\u001b[0m 4ms/step - loss: 18.0499 - mae: 2.8080\n",
                        "Epoch 26/100\n",
                        "\u001b[1m26/26\u001b[0m \u001b[32m━━━━━━━━━━━━━━━━━━━━\u001b[0m\u001b[37m\u001b[0m \u001b[1m0s\u001b[0m 9ms/step - loss: 11.2130 - mae: 2.5002\n",
                        "Epoch 27/100\n",
                        "\u001b[1m26/26\u001b[0m \u001b[32m━━━━━━━━━━━━━━━━━━━━\u001b[0m\u001b[37m\u001b[0m \u001b[1m0s\u001b[0m 4ms/step - loss: 13.6212 - mae: 2.6137\n",
                        "Epoch 28/100\n",
                        "\u001b[1m26/26\u001b[0m \u001b[32m━━━━━━━━━━━━━━━━━━━━\u001b[0m\u001b[37m\u001b[0m \u001b[1m0s\u001b[0m 5ms/step - loss: 11.4784 - mae: 2.4327\n",
                        "Epoch 29/100\n",
                        "\u001b[1m26/26\u001b[0m \u001b[32m━━━━━━━━━━━━━━━━━━━━\u001b[0m\u001b[37m\u001b[0m \u001b[1m0s\u001b[0m 5ms/step - loss: 10.4488 - mae: 2.4117\n",
                        "Epoch 30/100\n",
                        "\u001b[1m26/26\u001b[0m \u001b[32m━━━━━━━━━━━━━━━━━━━━\u001b[0m\u001b[37m\u001b[0m \u001b[1m0s\u001b[0m 5ms/step - loss: 12.2579 - mae: 2.4416\n",
                        "Epoch 31/100\n",
                        "\u001b[1m26/26\u001b[0m \u001b[32m━━━━━━━━━━━━━━━━━━━━\u001b[0m\u001b[37m\u001b[0m \u001b[1m0s\u001b[0m 5ms/step - loss: 10.9454 - mae: 2.3929\n",
                        "Epoch 32/100\n",
                        "\u001b[1m26/26\u001b[0m \u001b[32m━━━━━━━━━━━━━━━━━━━━\u001b[0m\u001b[37m\u001b[0m \u001b[1m0s\u001b[0m 7ms/step - loss: 10.2920 - mae: 2.4238\n",
                        "Epoch 33/100\n",
                        "\u001b[1m26/26\u001b[0m \u001b[32m━━━━━━━━━━━━━━━━━━━━\u001b[0m\u001b[37m\u001b[0m \u001b[1m0s\u001b[0m 7ms/step - loss: 9.5334 - mae: 2.3091 \n",
                        "Epoch 34/100\n",
                        "\u001b[1m26/26\u001b[0m \u001b[32m━━━━━━━━━━━━━━━━━━━━\u001b[0m\u001b[37m\u001b[0m \u001b[1m0s\u001b[0m 5ms/step - loss: 8.6152 - mae: 2.1441\n",
                        "Epoch 35/100\n",
                        "\u001b[1m26/26\u001b[0m \u001b[32m━━━━━━━━━━━━━━━━━━━━\u001b[0m\u001b[37m\u001b[0m \u001b[1m0s\u001b[0m 5ms/step - loss: 10.7119 - mae: 2.3167\n",
                        "Epoch 36/100\n",
                        "\u001b[1m26/26\u001b[0m \u001b[32m━━━━━━━━━━━━━━━━━━━━\u001b[0m\u001b[37m\u001b[0m \u001b[1m0s\u001b[0m 5ms/step - loss: 11.1837 - mae: 2.3297\n",
                        "Epoch 37/100\n",
                        "\u001b[1m26/26\u001b[0m \u001b[32m━━━━━━━━━━━━━━━━━━━━\u001b[0m\u001b[37m\u001b[0m \u001b[1m0s\u001b[0m 5ms/step - loss: 9.9797 - mae: 2.2718\n",
                        "Epoch 38/100\n",
                        "\u001b[1m26/26\u001b[0m \u001b[32m━━━━━━━━━━━━━━━━━━━━\u001b[0m\u001b[37m\u001b[0m \u001b[1m0s\u001b[0m 4ms/step - loss: 10.0570 - mae: 2.2679\n",
                        "Epoch 39/100\n",
                        "\u001b[1m26/26\u001b[0m \u001b[32m━━━━━━━━━━━━━━━━━━━━\u001b[0m\u001b[37m\u001b[0m \u001b[1m0s\u001b[0m 4ms/step - loss: 11.6390 - mae: 2.4519\n",
                        "Epoch 40/100\n",
                        "\u001b[1m26/26\u001b[0m \u001b[32m━━━━━━━━━━━━━━━━━━━━\u001b[0m\u001b[37m\u001b[0m \u001b[1m0s\u001b[0m 5ms/step - loss: 8.9333 - mae: 2.2711\n",
                        "Epoch 41/100\n",
                        "\u001b[1m26/26\u001b[0m \u001b[32m━━━━━━━━━━━━━━━━━━━━\u001b[0m\u001b[37m\u001b[0m \u001b[1m0s\u001b[0m 4ms/step - loss: 9.1893 - mae: 2.1215\n",
                        "Epoch 42/100\n",
                        "\u001b[1m26/26\u001b[0m \u001b[32m━━━━━━━━━━━━━━━━━━━━\u001b[0m\u001b[37m\u001b[0m \u001b[1m0s\u001b[0m 5ms/step - loss: 8.8869 - mae: 2.2290 \n",
                        "Epoch 43/100\n",
                        "\u001b[1m26/26\u001b[0m \u001b[32m━━━━━━━━━━━━━━━━━━━━\u001b[0m\u001b[37m\u001b[0m \u001b[1m0s\u001b[0m 4ms/step - loss: 12.0836 - mae: 2.3619\n",
                        "Epoch 44/100\n",
                        "\u001b[1m26/26\u001b[0m \u001b[32m━━━━━━━━━━━━━━━━━━━━\u001b[0m\u001b[37m\u001b[0m \u001b[1m0s\u001b[0m 6ms/step - loss: 9.9416 - mae: 2.1884 \n",
                        "Epoch 45/100\n",
                        "\u001b[1m26/26\u001b[0m \u001b[32m━━━━━━━━━━━━━━━━━━━━\u001b[0m\u001b[37m\u001b[0m \u001b[1m0s\u001b[0m 5ms/step - loss: 8.5828 - mae: 2.0773 \n",
                        "Epoch 46/100\n",
                        "\u001b[1m26/26\u001b[0m \u001b[32m━━━━━━━━━━━━━━━━━━━━\u001b[0m\u001b[37m\u001b[0m \u001b[1m0s\u001b[0m 10ms/step - loss: 8.4597 - mae: 2.0983\n",
                        "Epoch 47/100\n",
                        "\u001b[1m26/26\u001b[0m \u001b[32m━━━━━━━━━━━━━━━━━━━━\u001b[0m\u001b[37m\u001b[0m \u001b[1m0s\u001b[0m 6ms/step - loss: 10.1568 - mae: 2.2461\n",
                        "Epoch 48/100\n",
                        "\u001b[1m26/26\u001b[0m \u001b[32m━━━━━━━━━━━━━━━━━━━━\u001b[0m\u001b[37m\u001b[0m \u001b[1m0s\u001b[0m 5ms/step - loss: 9.6220 - mae: 2.2299 \n",
                        "Epoch 49/100\n",
                        "\u001b[1m26/26\u001b[0m \u001b[32m━━━━━━━━━━━━━━━━━━━━\u001b[0m\u001b[37m\u001b[0m \u001b[1m0s\u001b[0m 6ms/step - loss: 10.4946 - mae: 2.2789\n",
                        "Epoch 50/100\n",
                        "\u001b[1m26/26\u001b[0m \u001b[32m━━━━━━━━━━━━━━━━━━━━\u001b[0m\u001b[37m\u001b[0m \u001b[1m0s\u001b[0m 6ms/step - loss: 7.7514 - mae: 2.0571\n",
                        "Epoch 51/100\n",
                        "\u001b[1m26/26\u001b[0m \u001b[32m━━━━━━━━━━━━━━━━━━━━\u001b[0m\u001b[37m\u001b[0m \u001b[1m0s\u001b[0m 5ms/step - loss: 8.9259 - mae: 2.1122 \n",
                        "Epoch 52/100\n",
                        "\u001b[1m26/26\u001b[0m \u001b[32m━━━━━━━━━━━━━━━━━━━━\u001b[0m\u001b[37m\u001b[0m \u001b[1m0s\u001b[0m 5ms/step - loss: 8.8700 - mae: 2.2045\n",
                        "Epoch 53/100\n",
                        "\u001b[1m26/26\u001b[0m \u001b[32m━━━━━━━━━━━━━━━━━━━━\u001b[0m\u001b[37m\u001b[0m \u001b[1m0s\u001b[0m 5ms/step - loss: 9.5255 - mae: 2.1603\n",
                        "Epoch 54/100\n",
                        "\u001b[1m26/26\u001b[0m \u001b[32m━━━━━━━━━━━━━━━━━━━━\u001b[0m\u001b[37m\u001b[0m \u001b[1m0s\u001b[0m 8ms/step - loss: 7.5395 - mae: 2.0317\n",
                        "Epoch 55/100\n",
                        "\u001b[1m26/26\u001b[0m \u001b[32m━━━━━━━━━━━━━━━━━━━━\u001b[0m\u001b[37m\u001b[0m \u001b[1m0s\u001b[0m 5ms/step - loss: 7.6879 - mae: 2.0172\n",
                        "Epoch 56/100\n",
                        "\u001b[1m26/26\u001b[0m \u001b[32m━━━━━━━━━━━━━━━━━━━━\u001b[0m\u001b[37m\u001b[0m \u001b[1m0s\u001b[0m 5ms/step - loss: 8.4151 - mae: 2.1686\n",
                        "Epoch 57/100\n",
                        "\u001b[1m26/26\u001b[0m \u001b[32m━━━━━━━━━━━━━━━━━━━━\u001b[0m\u001b[37m\u001b[0m \u001b[1m0s\u001b[0m 5ms/step - loss: 9.2715 - mae: 2.2713\n",
                        "Epoch 58/100\n",
                        "\u001b[1m26/26\u001b[0m \u001b[32m━━━━━━━━━━━━━━━━━━━━\u001b[0m\u001b[37m\u001b[0m \u001b[1m0s\u001b[0m 4ms/step - loss: 8.2891 - mae: 2.1232\n",
                        "Epoch 59/100\n",
                        "\u001b[1m26/26\u001b[0m \u001b[32m━━━━━━━━━━━━━━━━━━━━\u001b[0m\u001b[37m\u001b[0m \u001b[1m0s\u001b[0m 5ms/step - loss: 6.5737 - mae: 1.8983\n",
                        "Epoch 60/100\n",
                        "\u001b[1m26/26\u001b[0m \u001b[32m━━━━━━━━━━━━━━━━━━━━\u001b[0m\u001b[37m\u001b[0m \u001b[1m0s\u001b[0m 5ms/step - loss: 8.5683 - mae: 2.1404 \n",
                        "Epoch 61/100\n",
                        "\u001b[1m26/26\u001b[0m \u001b[32m━━━━━━━━━━━━━━━━━━━━\u001b[0m\u001b[37m\u001b[0m \u001b[1m0s\u001b[0m 8ms/step - loss: 7.3964 - mae: 1.9725\n",
                        "Epoch 62/100\n",
                        "\u001b[1m26/26\u001b[0m \u001b[32m━━━━━━━━━━━━━━━━━━━━\u001b[0m\u001b[37m\u001b[0m \u001b[1m0s\u001b[0m 6ms/step - loss: 7.0975 - mae: 1.9520\n",
                        "Epoch 63/100\n",
                        "\u001b[1m26/26\u001b[0m \u001b[32m━━━━━━━━━━━━━━━━━━━━\u001b[0m\u001b[37m\u001b[0m \u001b[1m0s\u001b[0m 5ms/step - loss: 6.5182 - mae: 1.9167 \n",
                        "Epoch 64/100\n",
                        "\u001b[1m26/26\u001b[0m \u001b[32m━━━━━━━━━━━━━━━━━━━━\u001b[0m\u001b[37m\u001b[0m \u001b[1m0s\u001b[0m 5ms/step - loss: 7.2486 - mae: 1.9520\n",
                        "Epoch 65/100\n",
                        "\u001b[1m26/26\u001b[0m \u001b[32m━━━━━━━━━━━━━━━━━━━━\u001b[0m\u001b[37m\u001b[0m \u001b[1m0s\u001b[0m 5ms/step - loss: 8.5192 - mae: 2.0490  \n",
                        "Epoch 66/100\n",
                        "\u001b[1m26/26\u001b[0m \u001b[32m━━━━━━━━━━━━━━━━━━━━\u001b[0m\u001b[37m\u001b[0m \u001b[1m0s\u001b[0m 5ms/step - loss: 7.9560 - mae: 2.0548\n",
                        "Epoch 67/100\n",
                        "\u001b[1m26/26\u001b[0m \u001b[32m━━━━━━━━━━━━━━━━━━━━\u001b[0m\u001b[37m\u001b[0m \u001b[1m0s\u001b[0m 5ms/step - loss: 9.9813 - mae: 2.1886 \n",
                        "Epoch 68/100\n",
                        "\u001b[1m26/26\u001b[0m \u001b[32m━━━━━━━━━━━━━━━━━━━━\u001b[0m\u001b[37m\u001b[0m \u001b[1m0s\u001b[0m 5ms/step - loss: 6.5691 - mae: 1.9358 \n",
                        "Epoch 69/100\n",
                        "\u001b[1m26/26\u001b[0m \u001b[32m━━━━━━━━━━━━━━━━━━━━\u001b[0m\u001b[37m\u001b[0m \u001b[1m0s\u001b[0m 5ms/step - loss: 7.1259 - mae: 1.9993\n",
                        "Epoch 70/100\n",
                        "\u001b[1m26/26\u001b[0m \u001b[32m━━━━━━━━━━━━━━━━━━━━\u001b[0m\u001b[37m\u001b[0m \u001b[1m0s\u001b[0m 5ms/step - loss: 6.7183 - mae: 1.9589\n",
                        "Epoch 71/100\n",
                        "\u001b[1m26/26\u001b[0m \u001b[32m━━━━━━━━━━━━━━━━━━━━\u001b[0m\u001b[37m\u001b[0m \u001b[1m0s\u001b[0m 5ms/step - loss: 6.1955 - mae: 1.9096\n",
                        "Epoch 72/100\n",
                        "\u001b[1m26/26\u001b[0m \u001b[32m━━━━━━━━━━━━━━━━━━━━\u001b[0m\u001b[37m\u001b[0m \u001b[1m0s\u001b[0m 4ms/step - loss: 6.5109 - mae: 1.9558\n",
                        "Epoch 73/100\n",
                        "\u001b[1m26/26\u001b[0m \u001b[32m━━━━━━━━━━━━━━━━━━━━\u001b[0m\u001b[37m\u001b[0m \u001b[1m0s\u001b[0m 6ms/step - loss: 6.8360 - mae: 1.9200\n",
                        "Epoch 74/100\n",
                        "\u001b[1m26/26\u001b[0m \u001b[32m━━━━━━━━━━━━━━━━━━━━\u001b[0m\u001b[37m\u001b[0m \u001b[1m0s\u001b[0m 4ms/step - loss: 5.6844 - mae: 1.7747\n",
                        "Epoch 75/100\n",
                        "\u001b[1m26/26\u001b[0m \u001b[32m━━━━━━━━━━━━━━━━━━━━\u001b[0m\u001b[37m\u001b[0m \u001b[1m0s\u001b[0m 5ms/step - loss: 6.8199 - mae: 1.9408\n",
                        "Epoch 76/100\n",
                        "\u001b[1m26/26\u001b[0m \u001b[32m━━━━━━━━━━━━━━━━━━━━\u001b[0m\u001b[37m\u001b[0m \u001b[1m0s\u001b[0m 5ms/step - loss: 5.8973 - mae: 1.8885 \n",
                        "Epoch 77/100\n",
                        "\u001b[1m26/26\u001b[0m \u001b[32m━━━━━━━━━━━━━━━━━━━━\u001b[0m\u001b[37m\u001b[0m \u001b[1m0s\u001b[0m 5ms/step - loss: 5.5575 - mae: 1.7804\n",
                        "Epoch 78/100\n",
                        "\u001b[1m26/26\u001b[0m \u001b[32m━━━━━━━━━━━━━━━━━━━━\u001b[0m\u001b[37m\u001b[0m \u001b[1m0s\u001b[0m 5ms/step - loss: 5.6784 - mae: 1.8289\n",
                        "Epoch 79/100\n",
                        "\u001b[1m26/26\u001b[0m \u001b[32m━━━━━━━━━━━━━━━━━━━━\u001b[0m\u001b[37m\u001b[0m \u001b[1m0s\u001b[0m 5ms/step - loss: 7.4964 - mae: 2.0447 \n",
                        "Epoch 80/100\n",
                        "\u001b[1m26/26\u001b[0m \u001b[32m━━━━━━━━━━━━━━━━━━━━\u001b[0m\u001b[37m\u001b[0m \u001b[1m0s\u001b[0m 10ms/step - loss: 6.8242 - mae: 1.9483\n",
                        "Epoch 81/100\n",
                        "\u001b[1m26/26\u001b[0m \u001b[32m━━━━━━━━━━━━━━━━━━━━\u001b[0m\u001b[37m\u001b[0m \u001b[1m0s\u001b[0m 5ms/step - loss: 5.4118 - mae: 1.7294 \n",
                        "Epoch 82/100\n",
                        "\u001b[1m26/26\u001b[0m \u001b[32m━━━━━━━━━━━━━━━━━━━━\u001b[0m\u001b[37m\u001b[0m \u001b[1m0s\u001b[0m 5ms/step - loss: 6.6059 - mae: 1.9545 \n",
                        "Epoch 83/100\n",
                        "\u001b[1m26/26\u001b[0m \u001b[32m━━━━━━━━━━━━━━━━━━━━\u001b[0m\u001b[37m\u001b[0m \u001b[1m0s\u001b[0m 4ms/step - loss: 6.4592 - mae: 1.8905\n",
                        "Epoch 84/100\n",
                        "\u001b[1m26/26\u001b[0m \u001b[32m━━━━━━━━━━━━━━━━━━━━\u001b[0m\u001b[37m\u001b[0m \u001b[1m0s\u001b[0m 6ms/step - loss: 6.2520 - mae: 1.8084 \n",
                        "Epoch 85/100\n",
                        "\u001b[1m26/26\u001b[0m \u001b[32m━━━━━━━━━━━━━━━━━━━━\u001b[0m\u001b[37m\u001b[0m \u001b[1m0s\u001b[0m 5ms/step - loss: 6.0159 - mae: 1.8216\n",
                        "Epoch 86/100\n",
                        "\u001b[1m26/26\u001b[0m \u001b[32m━━━━━━━━━━━━━━━━━━━━\u001b[0m\u001b[37m\u001b[0m \u001b[1m0s\u001b[0m 5ms/step - loss: 6.1999 - mae: 1.9051\n",
                        "Epoch 87/100\n",
                        "\u001b[1m26/26\u001b[0m \u001b[32m━━━━━━━━━━━━━━━━━━━━\u001b[0m\u001b[37m\u001b[0m \u001b[1m0s\u001b[0m 5ms/step - loss: 5.9307 - mae: 1.8020 \n",
                        "Epoch 88/100\n",
                        "\u001b[1m26/26\u001b[0m \u001b[32m━━━━━━━━━━━━━━━━━━━━\u001b[0m\u001b[37m\u001b[0m \u001b[1m0s\u001b[0m 5ms/step - loss: 5.0093 - mae: 1.7086\n",
                        "Epoch 89/100\n",
                        "\u001b[1m26/26\u001b[0m \u001b[32m━━━━━━━━━━━━━━━━━━━━\u001b[0m\u001b[37m\u001b[0m \u001b[1m0s\u001b[0m 4ms/step - loss: 5.8415 - mae: 1.8429\n",
                        "Epoch 90/100\n",
                        "\u001b[1m26/26\u001b[0m \u001b[32m━━━━━━━━━━━━━━━━━━━━\u001b[0m\u001b[37m\u001b[0m \u001b[1m0s\u001b[0m 5ms/step - loss: 6.4051 - mae: 1.9292 \n",
                        "Epoch 91/100\n",
                        "\u001b[1m26/26\u001b[0m \u001b[32m━━━━━━━━━━━━━━━━━━━━\u001b[0m\u001b[37m\u001b[0m \u001b[1m0s\u001b[0m 6ms/step - loss: 6.6565 - mae: 1.8604 \n",
                        "Epoch 92/100\n",
                        "\u001b[1m26/26\u001b[0m \u001b[32m━━━━━━━━━━━━━━━━━━━━\u001b[0m\u001b[37m\u001b[0m \u001b[1m0s\u001b[0m 5ms/step - loss: 6.6034 - mae: 1.9138\n",
                        "Epoch 93/100\n",
                        "\u001b[1m26/26\u001b[0m \u001b[32m━━━━━━━━━━━━━━━━━━━━\u001b[0m\u001b[37m\u001b[0m \u001b[1m0s\u001b[0m 4ms/step - loss: 5.8615 - mae: 1.7937\n",
                        "Epoch 94/100\n",
                        "\u001b[1m26/26\u001b[0m \u001b[32m━━━━━━━━━━━━━━━━━━━━\u001b[0m\u001b[37m\u001b[0m \u001b[1m0s\u001b[0m 5ms/step - loss: 5.2129 - mae: 1.7305\n",
                        "Epoch 95/100\n",
                        "\u001b[1m26/26\u001b[0m \u001b[32m━━━━━━━━━━━━━━━━━━━━\u001b[0m\u001b[37m\u001b[0m \u001b[1m0s\u001b[0m 7ms/step - loss: 5.5910 - mae: 1.8006 \n",
                        "Epoch 96/100\n",
                        "\u001b[1m26/26\u001b[0m \u001b[32m━━━━━━━━━━━━━━━━━━━━\u001b[0m\u001b[37m\u001b[0m \u001b[1m0s\u001b[0m 4ms/step - loss: 6.8172 - mae: 1.8817 \n",
                        "Epoch 97/100\n",
                        "\u001b[1m26/26\u001b[0m \u001b[32m━━━━━━━━━━━━━━━━━━━━\u001b[0m\u001b[37m\u001b[0m \u001b[1m0s\u001b[0m 5ms/step - loss: 5.8760 - mae: 1.8069\n",
                        "Epoch 98/100\n",
                        "\u001b[1m26/26\u001b[0m \u001b[32m━━━━━━━━━━━━━━━━━━━━\u001b[0m\u001b[37m\u001b[0m \u001b[1m0s\u001b[0m 6ms/step - loss: 6.3163 - mae: 1.8540  \n",
                        "Epoch 99/100\n",
                        "\u001b[1m26/26\u001b[0m \u001b[32m━━━━━━━━━━━━━━━━━━━━\u001b[0m\u001b[37m\u001b[0m \u001b[1m0s\u001b[0m 5ms/step - loss: 5.2322 - mae: 1.7047 \n",
                        "Epoch 100/100\n",
                        "\u001b[1m26/26\u001b[0m \u001b[32m━━━━━━━━━━━━━━━━━━━━\u001b[0m\u001b[37m\u001b[0m \u001b[1m0s\u001b[0m 4ms/step - loss: 5.4361 - mae: 1.6995 \n",
                        "\u001b[1m4/4\u001b[0m \u001b[32m━━━━━━━━━━━━━━━━━━━━\u001b[0m\u001b[37m\u001b[0m \u001b[1m0s\u001b[0m 16ms/step - loss: 8.1289 - mae: 1.9660 \n",
                        "TensorFlow Neural Network MAE: 2.1224396228790283\n"
                    ]
                }
            ],
            "source": [
                "# Build the neural network model\n",
                "model_tf = tf.keras.Sequential([\n",
                "    tf.keras.layers.Dense(64, activation='relu', input_shape=(X_train.shape[1],)),\n",
                "    tf.keras.layers.Dense(32, activation='relu'),\n",
                "    tf.keras.layers.Dense(1)  # Output layer for regression\n",
                "])\n",
                "\n",
                "# Compile the model\n",
                "model_tf.compile(optimizer='adam', loss='mean_squared_error', metrics=['mae'])\n",
                "\n",
                "# Train the model\n",
                "model_tf.fit(X_train, y_train, epochs=100, batch_size=16, verbose=1)\n",
                "\n",
                "# Evaluate the model\n",
                "loss, mae_tf = model_tf.evaluate(X_test, y_test)\n",
                "print('TensorFlow Neural Network MAE:', mae_tf)"
            ]
        },
        {
            "cell_type": "markdown",
            "metadata": {
                "id": "ffa4c7ad",
                "language": "markdown"
            },
            "source": [
                "## 5. Conclusion\n",
                "\n",
                "In this notebook, we successfully performed data preprocessing, built a Linear Regression model using Scikit-learn, and constructed a neural network using TensorFlow for the Boston Housing dataset. Participants can further explore model tuning and additional evaluation metrics."
            ]
        }
    ],
    "metadata": {
        "kernelspec": {
            "display_name": ".venv",
            "language": "python",
            "name": "python3"
        },
        "language_info": {
            "codemirror_mode": {
                "name": "ipython",
                "version": 3
            },
            "file_extension": ".py",
            "mimetype": "text/x-python",
            "name": "python",
            "nbconvert_exporter": "python",
            "pygments_lexer": "ipython3",
            "version": "3.12.8"
        }
    },
    "nbformat": 4,
    "nbformat_minor": 5
}
