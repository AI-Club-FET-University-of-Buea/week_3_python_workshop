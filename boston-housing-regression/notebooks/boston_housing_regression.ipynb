{
    "cells": [
        {
            "cell_type": "markdown",
            "metadata": {
                "id": "cd267f4c",
                "language": "markdown"
            },
            "source": [
                "# Boston Housing Regression",
                "",
                "This notebook contains hands-on exercises for participants to work with the Boston Housing dataset. We will cover data preprocessing, building a Scikit-learn Linear Regression model, and constructing a TensorFlow neural network for regression."
            ]
        },
        {
            "cell_type": "markdown",
            "metadata": {
                "id": "64d443f8",
                "language": "markdown"
            },
            "source": [
                "## 1. Setting Up the Environment",
                "",
                "First, we'll import all the necessary libraries for our analysis:",
                "- **pandas & numpy**: For data manipulation and numerical operations",
                "- **scikit-learn**: For machine learning algorithms and preprocessing tools",
                "- **TensorFlow**: For building neural networks",
                "- **matplotlib & seaborn**: For data visualization"
            ]
        },
        {
            "cell_type": "code",
            "metadata": {
                "id": "7f282bd8",
                "language": "python"
            },
            "source": [
                "import pandas as pd",
                "import numpy as np",
                "from sklearn.datasets import load_boston",
                "from sklearn.model_selection import train_test_split",
                "from sklearn.preprocessing import StandardScaler",
                "import tensorflow as tf",
                "import matplotlib.pyplot as plt",
                "import seaborn as sns"
            ]
        },
        {
            "cell_type": "markdown",
            "metadata": {
                "id": "9f5377c7",
                "language": "markdown"
            },
            "source": [
                "## 2. Data Preprocessing",
                "",
                "In this section, we will load the Boston Housing dataset, check for missing values, and scale the features."
            ]
        },
        {
            "cell_type": "code",
            "metadata": {
                "id": "536b7b57",
                "language": "python"
            },
            "source": [
                "# Load the Boston Housing dataset",
                "boston = load_boston()",
                "df = pd.DataFrame(data=boston.data, columns=boston.feature_names)",
                "df['PRICE'] = boston.target",
                "",
                "# Check for missing values",
                "print('Missing values in each column:', df.isnull().sum())",
                "",
                "# Scale the features",
                "X = df.drop('PRICE', axis=1)",
                "y = df['PRICE']",
                "scaler = StandardScaler()",
                "X_scaled = scaler.fit_transform(X)",
                "",
                "# Split the data into training and testing sets",
                "X_train, X_test, y_train, y_test = train_test_split(X_scaled, y, test_size=0.2, random_state=42)"
            ]
        },
        {
            "cell_type": "markdown",
            "metadata": {
                "id": "b21647b4",
                "language": "markdown"
            },
            "source": [
                "## 3. Building a Scikit-learn Linear Regression Model",
                "",
                "In this section, we will create a Linear Regression model using Scikit-learn and evaluate its performance."
            ]
        },
        {
            "cell_type": "code",
            "metadata": {
                "id": "7bcf8ee3",
                "language": "python"
            },
            "source": [
                "from sklearn.linear_model import LinearRegression",
                "from sklearn.metrics import mean_squared_error, r2_score",
                "",
                "# Create and train the model",
                "model_sk = LinearRegression()",
                "model_sk.fit(X_train, y_train)",
                "",
                "# Make predictions",
                "y_pred_sk = model_sk.predict(X_test)",
                "",
                "# Evaluate the model",
                "mse_sk = mean_squared_error(y_test, y_pred_sk)",
                "r2_sk = r2_score(y_test, y_pred_sk)",
                "print('Scikit-learn Linear Regression MSE:', mse_sk)",
                "print('Scikit-learn Linear Regression R^2:', r2_sk)"
            ]
        },
        {
            "cell_type": "markdown",
            "metadata": {
                "id": "4f9e9f6f",
                "language": "markdown"
            },
            "source": [
                "## 4. Constructing a TensorFlow Neural Network for Regression",
                "",
                "In this section, we will build a simple neural network using TensorFlow for regression tasks."
            ]
        },
        {
            "cell_type": "code",
            "metadata": {
                "id": "875be4f7",
                "language": "python"
            },
            "source": [
                "# Build the neural network model",
                "model_tf = tf.keras.Sequential([",
                "    tf.keras.layers.Dense(64, activation='relu', input_shape=(X_train.shape[1],)),",
                "    tf.keras.layers.Dense(32, activation='relu'),",
                "    tf.keras.layers.Dense(1)  # Output layer for regression",
                "])",
                "",
                "# Compile the model",
                "model_tf.compile(optimizer='adam', loss='mean_squared_error', metrics=['mae'])",
                "",
                "# Train the model",
                "model_tf.fit(X_train, y_train, epochs=100, batch_size=16, verbose=1)",
                "",
                "# Evaluate the model",
                "loss, mae_tf = model_tf.evaluate(X_test, y_test)",
                "print('TensorFlow Neural Network MAE:', mae_tf)"
            ]
        },
        {
            "cell_type": "markdown",
            "metadata": {
                "id": "ffa4c7ad",
                "language": "markdown"
            },
            "source": [
                "## 5. Conclusion",
                "",
                "In this notebook, we successfully performed data preprocessing, built a Linear Regression model using Scikit-learn, and constructed a neural network using TensorFlow for the Boston Housing dataset. Participants can further explore model tuning and additional evaluation metrics."
            ]
        }
    ]
}